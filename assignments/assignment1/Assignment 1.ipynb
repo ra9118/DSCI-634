{
 "cells": [
  {
   "cell_type": "code",
   "execution_count": 4,
   "metadata": {},
   "outputs": [
    {
     "name": "stdout",
     "output_type": "stream",
     "text": [
      "Iris-setosa\t1.000000\n",
      "Iris-setosa\t1.000000\n",
      "Iris-setosa\t1.000000\n",
      "Iris-setosa\t1.000000\n",
      "Iris-setosa\t1.000000\n",
      "Iris-versicolor\t0.992155\n",
      "Iris-versicolor\t0.999921\n",
      "Iris-versicolor\t0.999999\n",
      "Iris-versicolor\t0.997254\n",
      "Iris-versicolor\t0.999990\n",
      "Iris-virginica\t1.000000\n",
      "Iris-virginica\t0.840581\n",
      "Iris-virginica\t0.999999\n",
      "Iris-virginica\t0.999988\n",
      "Iris-virginica\t0.753482\n"
     ]
    }
   ],
   "source": [
    "from sklearn.naive_bayes import GaussianNB\n",
    "import pandas as pd\n",
    "\n",
    "if __name__ == \"__main__\":\n",
    "    #  Load training data\n",
    "    data_train = pd.read_csv(\"Iris_train.csv\")\n",
    "    # Separate independent variables and dependent variables\n",
    "    independent = [\"SepalLengthCm\",\t\"SepalWidthCm\",\t\"PetalLengthCm\",\t\"PetalWidthCm\"]\n",
    "    X = data_train[independent]\n",
    "    Y = data_train[\"Species\"]\n",
    "    # Train model\n",
    "    clf = GaussianNB()\n",
    "    clf.fit(X,Y)\n",
    "    # Load testing data\n",
    "    data_test = pd.read_csv(\"Iris_test.csv\")\n",
    "    X_test = data_test[independent]\n",
    "    # Predict\n",
    "    predictions = clf.predict(X_test)\n",
    "    # Predict probabilities\n",
    "    probs = clf.predict_proba(X_test)\n",
    "    # Print results\n",
    "    for i,pred in enumerate(predictions):\n",
    "        print(\"%s\\t%f\" %(pred,max(probs[i])))"
   ]
  },
  {
   "cell_type": "code",
   "execution_count": 6,
   "metadata": {},
   "outputs": [
    {
     "name": "stdout",
     "output_type": "stream",
     "text": [
      "Iris-setosa\t1.000000\n",
      "Iris-setosa\t1.000000\n",
      "Iris-setosa\t1.000000\n",
      "Iris-setosa\t1.000000\n",
      "Iris-setosa\t1.000000\n",
      "Iris-versicolor\t1.000000\n",
      "Iris-versicolor\t1.000000\n",
      "Iris-versicolor\t1.000000\n",
      "Iris-versicolor\t1.000000\n",
      "Iris-versicolor\t1.000000\n",
      "Iris-virginica\t1.000000\n",
      "Iris-virginica\t1.000000\n",
      "Iris-virginica\t1.000000\n",
      "Iris-virginica\t1.000000\n",
      "Iris-virginica\t1.000000\n"
     ]
    }
   ],
   "source": [
    "from sklearn import tree\n",
    "import pandas as pd\n",
    "\n",
    "if __name__ == \"__main__\":\n",
    "    #  Load training data\n",
    "    data_train = pd.read_csv(\"Iris_train.csv\")\n",
    "    # Separate independent variables and dependent variables\n",
    "    independent = [\"SepalLengthCm\",\"SepalWidthCm\",\"PetalLengthCm\", \"PetalWidthCm\"]\n",
    "    X = data_train[independent]\n",
    "    Y = data_train[\"Species\"]\n",
    "    # Train model\n",
    "    clf = tree.DecisionTreeClassifier()\n",
    "    clf.fit(X,Y)\n",
    "    # Load testing data\n",
    "    data_test = pd.read_csv(\"Iris_test.csv\")\n",
    "    X_test = data_test[independent]\n",
    "    # Predict\n",
    "    predictions = clf.predict(X_test)\n",
    "    # Predict probabilities\n",
    "    probs = clf.predict_proba(X_test)\n",
    "    # Print results\n",
    "    for i,pred in enumerate(predictions):\n",
    "        print(\"%s\\t%f\" %(pred,max(probs[i])))"
   ]
  },
  {
   "cell_type": "code",
   "execution_count": null,
   "metadata": {},
   "outputs": [],
   "source": []
  }
 ],
 "metadata": {
  "kernelspec": {
   "display_name": "Python 3",
   "language": "python",
   "name": "python3"
  },
  "language_info": {
   "codemirror_mode": {
    "name": "ipython",
    "version": 3
   },
   "file_extension": ".py",
   "mimetype": "text/x-python",
   "name": "python",
   "nbconvert_exporter": "python",
   "pygments_lexer": "ipython3",
   "version": "3.7.1"
  }
 },
 "nbformat": 4,
 "nbformat_minor": 2
}
